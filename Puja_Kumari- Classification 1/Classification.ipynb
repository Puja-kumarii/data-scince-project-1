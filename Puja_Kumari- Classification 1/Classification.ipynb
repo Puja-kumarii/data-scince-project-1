{
 "cells": [
  {
   "cell_type": "code",
   "execution_count": null,
   "id": "efadadc7",
   "metadata": {},
   "outputs": [],
   "source": [
    "#libraries\n",
    "import numpy as np\n",
    "import pandas as pd"
   ]
  },
  {
   "cell_type": "code",
   "execution_count": null,
   "id": "2b80e705",
   "metadata": {},
   "outputs": [],
   "source": [
    "# Load the Cardio Dataset\n",
    "mydata = pd.read_csv('wisc_bc_data.csv')"
   ]
  },
  {
   "cell_type": "code",
   "execution_count": null,
   "id": "d2a62246",
   "metadata": {},
   "outputs": [],
   "source": [
    "## top 10 rows\n",
    "mydata.head(10)"
   ]
  },
  {
   "cell_type": "code",
   "execution_count": null,
   "id": "277fe1ed",
   "metadata": {},
   "outputs": [],
   "source": [
    "mydata.tail(10)"
   ]
  },
  {
   "cell_type": "code",
   "execution_count": null,
   "id": "dd156ed8",
   "metadata": {},
   "outputs": [],
   "source": [
    "mydata.sample()"
   ]
  },
  {
   "cell_type": "code",
   "execution_count": null,
   "id": "7329bc5b",
   "metadata": {},
   "outputs": [],
   "source": [
    "mydata.sample(5)"
   ]
  },
  {
   "cell_type": "code",
   "execution_count": null,
   "id": "8819cc63",
   "metadata": {},
   "outputs": [],
   "source": [
    "mydata.shape # 569 rows and 32 columns"
   ]
  },
  {
   "cell_type": "code",
   "execution_count": null,
   "id": "5229ec3f",
   "metadata": {},
   "outputs": [],
   "source": [
    "mydata.describe()"
   ]
  },
  {
   "cell_type": "code",
   "execution_count": null,
   "id": "b8a32dd3",
   "metadata": {},
   "outputs": [],
   "source": [
    "mydata.describe(include=\"all\")"
   ]
  },
  {
   "cell_type": "code",
   "execution_count": null,
   "id": "816199b2",
   "metadata": {},
   "outputs": [],
   "source": [
    "mydata.info()"
   ]
  },
  {
   "cell_type": "code",
   "execution_count": null,
   "id": "170735ed",
   "metadata": {},
   "outputs": [],
   "source": [
    "mydata.isnull().sum()"
   ]
  },
  {
   "cell_type": "code",
   "execution_count": null,
   "id": "462cbc27",
   "metadata": {},
   "outputs": [],
   "source": [
    "mydata.dtypes"
   ]
  },
  {
   "cell_type": "code",
   "execution_count": null,
   "id": "9f951e12",
   "metadata": {},
   "outputs": [],
   "source": [
    "import matplotlib.pyplot as plt\n",
    "%matplotlib inline"
   ]
  },
  {
   "cell_type": "code",
   "execution_count": null,
   "id": "b4755e9f",
   "metadata": {},
   "outputs": [],
   "source": [
    "mydata.hist(figsize=(20,30)) "
   ]
  },
  {
   "cell_type": "code",
   "execution_count": null,
   "id": "27eba794",
   "metadata": {},
   "outputs": [],
   "source": [
    "import seaborn as sns\n",
    "sns.boxplot(x=\"points_se\", y=\"symmetry_se\", data=mydata) ## Boxplot-One should be numerical"
   ]
  },
  {
   "cell_type": "code",
   "execution_count": null,
   "id": "1463db35",
   "metadata": {},
   "outputs": [],
   "source": [
    "sns.boxplot(x=\"area_wrost\", y=\"symmetry_wrost\", data=mydata)"
   ]
  },
  {
   "cell_type": "code",
   "execution_count": null,
   "id": "dfe39268",
   "metadata": {},
   "outputs": [],
   "source": [
    "pd.crosstab(mydata['radius_mean'],mydata['texture_mean'] )"
   ]
  },
  {
   "cell_type": "code",
   "execution_count": null,
   "id": "9b6656bb",
   "metadata": {},
   "outputs": [],
   "source": [
    "pd.crosstab(mydata['perimeter_mean'],mydata['area_mean'] )"
   ]
  },
  {
   "cell_type": "code",
   "execution_count": null,
   "id": "869f4b6f",
   "metadata": {},
   "outputs": [],
   "source": [
    "sns.countplot(x=\"concavity_mean\", hue=\"points_mean\", data=mydata)"
   ]
  },
  {
   "cell_type": "code",
   "execution_count": null,
   "id": "f781c973",
   "metadata": {},
   "outputs": [],
   "source": [
    "pd.pivot_table(mydata, index=['smoothness_se', 'compactness_se'],\n",
    "                     columns=[ 'concavity_se'], aggfunc=len)"
   ]
  },
  {
   "cell_type": "code",
   "execution_count": null,
   "id": "d7633615",
   "metadata": {},
   "outputs": [],
   "source": [
    "pd.pivot_table(mydata,'area_se', index=['smoothness_se', 'compactness_se'],\n",
    "                     columns=[ 'concavity_se'])"
   ]
  },
  {
   "cell_type": "code",
   "execution_count": null,
   "id": "af5664e2",
   "metadata": {},
   "outputs": [],
   "source": [
    "pd.pivot_table(mydata,'dimension_worst', index=['smoothness_se', 'compactness_se'],\n",
    "                     columns=[ 'concavity_se'])"
   ]
  },
  {
   "cell_type": "code",
   "execution_count": null,
   "id": "eebcbb99",
   "metadata": {},
   "outputs": [],
   "source": [
    "sns.pairplot(mydata,diag_kind='kde')"
   ]
  },
  {
   "cell_type": "code",
   "execution_count": null,
   "id": "501037ac",
   "metadata": {},
   "outputs": [],
   "source": [
    "mydata['dimension_worst'].std()"
   ]
  },
  {
   "cell_type": "code",
   "execution_count": null,
   "id": "1e035515",
   "metadata": {},
   "outputs": [],
   "source": [
    "mydata['dimension_worst'].mean()"
   ]
  },
  {
   "cell_type": "code",
   "execution_count": null,
   "id": "515f75a0",
   "metadata": {},
   "outputs": [],
   "source": [
    "mydata.hist(by='area_mean',column = 'dimension_worst')"
   ]
  },
  {
   "cell_type": "code",
   "execution_count": null,
   "id": "7d337c07",
   "metadata": {},
   "outputs": [],
   "source": [
    "mydata.hist(by='area_mean',column = 'diagnosis')"
   ]
  },
  {
   "cell_type": "code",
   "execution_count": null,
   "id": "0c9931e5",
   "metadata": {},
   "outputs": [],
   "source": [
    "mydata.hist(by='area_mean',column = 'id')"
   ]
  },
  {
   "cell_type": "code",
   "execution_count": null,
   "id": "efcb00b8",
   "metadata": {},
   "outputs": [],
   "source": [
    "mydata.hist(by='area_mean',column = 'id')"
   ]
  },
  {
   "cell_type": "code",
   "execution_count": null,
   "id": "1fef826c",
   "metadata": {},
   "outputs": [],
   "source": [
    "corr = mydata.corr()\n",
    "corr"
   ]
  },
  {
   "cell_type": "code",
   "execution_count": null,
   "id": "887d8532",
   "metadata": {},
   "outputs": [],
   "source": [
    "sns.heatmap(corr,annot=True)"
   ]
  }
 ],
 "metadata": {
  "kernelspec": {
   "display_name": "Python 3",
   "language": "python",
   "name": "python3"
  },
  "language_info": {
   "codemirror_mode": {
    "name": "ipython",
    "version": 3
   },
   "file_extension": ".py",
   "mimetype": "text/x-python",
   "name": "python",
   "nbconvert_exporter": "python",
   "pygments_lexer": "ipython3",
   "version": "3.8.8"
  }
 },
 "nbformat": 4,
 "nbformat_minor": 5
}
